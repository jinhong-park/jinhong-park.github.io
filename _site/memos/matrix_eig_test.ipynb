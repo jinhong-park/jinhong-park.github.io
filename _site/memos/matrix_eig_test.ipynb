{
 "cells": [
  {
   "cell_type": "code",
   "execution_count": 8,
   "metadata": {},
   "outputs": [],
   "source": [
    "import numpy as np\n",
    "\n",
    "# mathematica style function defined\n",
    "Matrix = np.array     \n",
    "Eigensystem = np.linalg.eig\n",
    "Conj = np.conjugate\n",
    "\n",
    "A = Matrix([[-4, 4, -1, 9],\n",
    "           [6, -6, 9, 10],\n",
    "           [-5, 8, 6, 8],\n",
    "           [ 7, 0, -4, -2]])\n",
    "\n",
    "Eigenvalues, eigenvectors_tem = Eigensystem(A)\n",
    "\n",
    "Eigenvectors = eigenvectors_tem.transpose() "
   ]
  },
  {
   "cell_type": "code",
   "execution_count": 3,
   "metadata": {},
   "outputs": [
    {
     "data": {
      "text/plain": [
       "array([  7.91990627+3.47031997j,   7.91990627-3.47031997j,\n",
       "       -13.76135877+0.j        ,  -8.07845377+0.j        ])"
      ]
     },
     "execution_count": 3,
     "metadata": {},
     "output_type": "execute_result"
    }
   ],
   "source": [
    "Eigenvalues"
   ]
  },
  {
   "cell_type": "code",
   "execution_count": 4,
   "metadata": {},
   "outputs": [
    {
     "data": {
      "text/plain": [
       "array([[-0.0091516 +0.29357931j,  0.39202769+0.23164396j,\n",
       "         0.76189327+0.j        , -0.21490198+0.28234479j],\n",
       "       [-0.0091516 -0.29357931j,  0.39202769-0.23164396j,\n",
       "         0.76189327-0.j        , -0.21490198-0.28234479j],\n",
       "       [-0.46037801+0.j        ,  0.74688832+0.j        ,\n",
       "        -0.46565954+0.j        ,  0.11563357+0.j        ],\n",
       "       [-0.50291592+0.j        , -0.68341441+0.j        ,\n",
       "        -0.08688245+0.j        ,  0.52198828+0.j        ]])"
      ]
     },
     "execution_count": 4,
     "metadata": {},
     "output_type": "execute_result"
    }
   ],
   "source": [
    "Eigenvectors"
   ]
  },
  {
   "cell_type": "code",
   "execution_count": 5,
   "metadata": {},
   "outputs": [
    {
     "data": {
      "text/plain": [
       "(1+0j)"
      ]
     },
     "execution_count": 5,
     "metadata": {},
     "output_type": "execute_result"
    }
   ],
   "source": [
    "np.dot(Conj(Eigenvectors[0]), Eigenvectors[0])"
   ]
  },
  {
   "cell_type": "code",
   "execution_count": 6,
   "metadata": {},
   "outputs": [
    {
     "data": {
      "text/plain": [
       "4"
      ]
     },
     "execution_count": 6,
     "metadata": {},
     "output_type": "execute_result"
    }
   ],
   "source": [
    "len(Eigenvalues)"
   ]
  },
  {
   "cell_type": "code",
   "execution_count": 7,
   "metadata": {},
   "outputs": [
    {
     "data": {
      "text/plain": [
       "array([ 6.66133815e-15+0.j,  4.44089210e-15+0.j, -1.46549439e-14+0.j,\n",
       "        7.32747196e-15+0.j])"
      ]
     },
     "execution_count": 7,
     "metadata": {},
     "output_type": "execute_result"
    }
   ],
   "source": [
    "tem = 0.0\n",
    "for i in range(len(Eigenvalues)) : \n",
    "    tem += np.dot(A, Eigenvectors[i]) - Eigenvalues[i]* Eigenvectors[i]\n",
    "\n",
    "tem"
   ]
  },
  {
   "cell_type": "code",
   "execution_count": null,
   "metadata": {},
   "outputs": [],
   "source": []
  }
 ],
 "metadata": {
  "kernelspec": {
   "display_name": "Python 3.10.3 64-bit ('3.10.3')",
   "language": "python",
   "name": "python3"
  },
  "language_info": {
   "codemirror_mode": {
    "name": "ipython",
    "version": 3
   },
   "file_extension": ".py",
   "mimetype": "text/x-python",
   "name": "python",
   "nbconvert_exporter": "python",
   "pygments_lexer": "ipython3",
   "version": "3.10.3"
  },
  "orig_nbformat": 4,
  "vscode": {
   "interpreter": {
    "hash": "09557fedbe68579395b846eed542cb58f2edc4fe3f9e70fac4b9793ab2987f7b"
   }
  }
 },
 "nbformat": 4,
 "nbformat_minor": 2
}
